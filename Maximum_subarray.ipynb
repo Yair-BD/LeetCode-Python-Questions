{
 "cells": [
  {
   "cell_type": "code",
   "execution_count": 9,
   "metadata": {},
   "outputs": [],
   "source": [
    "\"\"\" The main idea it to slide the umbers ad deside\n",
    "    the current number is bad for us, if its make the sum < 0 \n",
    "    or if the sum is bad for our number, the sum is < the current number   \n",
    "\n",
    "    Returns:\n",
    "        int: The max sum of sub array\n",
    "\"\"\"\n",
    "class Solution: #53\n",
    "    def maxSubArray(self, nums: list[int]) -> int:\n",
    "        current_sum = 0\n",
    "        max_sum = min(nums)\n",
    "        for num in nums:\n",
    "            current_sum += num\n",
    "            if current_sum < 0 or current_sum < num:\n",
    "                current_sum = num\n",
    "            max_sum = max(current_sum, max_sum)\n",
    "        return max_sum"
   ]
  },
  {
   "cell_type": "code",
   "execution_count": 10,
   "metadata": {},
   "outputs": [
    {
     "data": {
      "text/plain": [
       "6"
      ]
     },
     "execution_count": 10,
     "metadata": {},
     "output_type": "execute_result"
    }
   ],
   "source": [
    "opt = Solution()\n",
    "opt.maxSubArray(nums = [-2,1,-3,4,-1,2,1,-5,4])"
   ]
  },
  {
   "cell_type": "code",
   "execution_count": null,
   "metadata": {},
   "outputs": [],
   "source": []
  }
 ],
 "metadata": {
  "kernelspec": {
   "display_name": "Python 3.9.7 ('base')",
   "language": "python",
   "name": "python3"
  },
  "language_info": {
   "codemirror_mode": {
    "name": "ipython",
    "version": 3
   },
   "file_extension": ".py",
   "mimetype": "text/x-python",
   "name": "python",
   "nbconvert_exporter": "python",
   "pygments_lexer": "ipython3",
   "version": "3.9.7"
  },
  "orig_nbformat": 4,
  "vscode": {
   "interpreter": {
    "hash": "7cdf10781bbe6a57a8d081363923bf7d747e13240b0528932bc62bdd64a98c25"
   }
  }
 },
 "nbformat": 4,
 "nbformat_minor": 2
}
