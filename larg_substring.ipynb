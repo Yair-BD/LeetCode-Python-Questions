{
 "cells": [
  {
   "cell_type": "code",
   "execution_count": 9,
   "metadata": {},
   "outputs": [
    {
     "data": {
      "text/plain": [
       "2"
      ]
     },
     "execution_count": 9,
     "metadata": {},
     "output_type": "execute_result"
    }
   ],
   "source": [
    "class Solution:\n",
    "    def lengthOfLongestSubstring(self, s: str) -> int:\n",
    "        tmp = []\n",
    "        max_sub = 0\n",
    "        for i in s:\n",
    "            if i in tmp:\n",
    "                tmp = tmp[tmp.index(i)+ 1:]\n",
    "                tmp.append(i)\n",
    "            else:\n",
    "                tmp.append(i)\n",
    "                max_sub = max(max_sub, len(tmp))\n",
    "                \n",
    "        return max_sub\n",
    "    \n",
    "c = Solution()\n",
    "c.lengthOfLongestSubstring(\"aab\")"
   ]
  },
  {
   "cell_type": "code",
   "execution_count": 2,
   "metadata": {},
   "outputs": [
    {
     "data": {
      "text/plain": [
       "[4, 5]"
      ]
     },
     "execution_count": 2,
     "metadata": {},
     "output_type": "execute_result"
    }
   ],
   "source": [
    "y = [1, 2 ,3 ,4,5]\n",
    "\n",
    "y = y[y.index(3) + 1:]\n",
    "y"
   ]
  },
  {
   "cell_type": "code",
   "execution_count": null,
   "metadata": {},
   "outputs": [],
   "source": []
  }
 ],
 "metadata": {
  "kernelspec": {
   "display_name": "Python 3.9.7 ('base')",
   "language": "python",
   "name": "python3"
  },
  "language_info": {
   "codemirror_mode": {
    "name": "ipython",
    "version": 3
   },
   "file_extension": ".py",
   "mimetype": "text/x-python",
   "name": "python",
   "nbconvert_exporter": "python",
   "pygments_lexer": "ipython3",
   "version": "3.9.7"
  },
  "orig_nbformat": 4,
  "vscode": {
   "interpreter": {
    "hash": "7cdf10781bbe6a57a8d081363923bf7d747e13240b0528932bc62bdd64a98c25"
   }
  }
 },
 "nbformat": 4,
 "nbformat_minor": 2
}
