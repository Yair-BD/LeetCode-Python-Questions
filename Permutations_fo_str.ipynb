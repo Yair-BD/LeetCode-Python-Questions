{
 "cells": [
  {
   "cell_type": "code",
   "execution_count": 28,
   "metadata": {},
   "outputs": [
    {
     "data": {
      "text/plain": [
       "True"
      ]
     },
     "execution_count": 28,
     "metadata": {},
     "output_type": "execute_result"
    }
   ],
   "source": [
    "from typing import Counter\n",
    "\n",
    "\n",
    "def checkInclusion(s1: str, s2: str) -> bool:  \n",
    "    if len(s1) > len(s2): return False\n",
    "    \n",
    "    len_s1 = len(s1)\n",
    "    s1_dict, window_from_s2 = Counter(s1), Counter() # dict of s1, s2\n",
    "    \n",
    "    for index, letter in enumerate(s2):\n",
    "        window_from_s2[letter] += 1 #Add/Update the letter apear\n",
    "        \n",
    "        if index >= len_s1: #Pass one letter more then there is in s1\n",
    "            # i need to find the leftest letter צ\n",
    "            left = s2[index - len_s1]\n",
    "            \n",
    "            if window_from_s2[left] == 1: \n",
    "                del window_from_s2[left]\n",
    "                \n",
    "            else: \n",
    "                window_from_s2[left] -= 1\n",
    "            \n",
    "        if window_from_s2 == s1_dict: return True   \n",
    "    \n",
    "    return False\n",
    "    \n",
    "    \n",
    "    \n",
    "checkInclusion(\"hello\", \"ooolleohooleh\")\n",
    " \n",
    "            "
   ]
  },
  {
   "cell_type": "code",
   "execution_count": 24,
   "metadata": {},
   "outputs": [
    {
     "data": {
      "text/plain": [
       "3"
      ]
     },
     "execution_count": 24,
     "metadata": {},
     "output_type": "execute_result"
    }
   ],
   "source": [
    "p = \"yyy\"\n",
    "p.count(\"y\")\n",
    "\n"
   ]
  },
  {
   "cell_type": "code",
   "execution_count": 26,
   "metadata": {},
   "outputs": [
    {
     "data": {
      "text/plain": [
       "False"
      ]
     },
     "execution_count": 26,
     "metadata": {},
     "output_type": "execute_result"
    }
   ],
   "source": [
    "from collections import Counter\n",
    "\n",
    "def checkInclusion(s1: str, s2: str) -> bool:\n",
    "    len_s1 = len(s1)\n",
    "    s1_counter = Counter(s1)\n",
    "    window_counter = Counter()\n",
    "    \n",
    "    for i, c in enumerate(s2):\n",
    "        window_counter[c] += 1\n",
    "        \n",
    "        \n",
    "        if i >= len_s1:\n",
    "            element_from_left = s2[i - len_s1]\n",
    "            \n",
    "            if window_counter[element_from_left] == 1:\n",
    "                del window_counter[element_from_left]\n",
    "            \n",
    "            else:\n",
    "                window_counter[element_from_left] -= 1\n",
    "                \n",
    "        if window_counter == s1_counter:\n",
    "            return True\n",
    "            \n",
    "    return False\n",
    "\n",
    "checkInclusion(\"hello\", \"ooolleoooleh\")"
   ]
  },
  {
   "cell_type": "code",
   "execution_count": 19,
   "metadata": {},
   "outputs": [
    {
     "data": {
      "text/plain": [
       "Counter({'h': 1, 'e': 1, 'l': 2, 'o': 1})"
      ]
     },
     "execution_count": 19,
     "metadata": {},
     "output_type": "execute_result"
    }
   ],
   "source": [
    "t = \"hello\"\n",
    "b = \"llohe\"\n",
    "\n",
    "Counter(t) "
   ]
  },
  {
   "cell_type": "code",
   "execution_count": 20,
   "metadata": {},
   "outputs": [
    {
     "data": {
      "text/plain": [
       "Counter({'l': 2, 'o': 1, 'h': 1, 'e': 1})"
      ]
     },
     "execution_count": 20,
     "metadata": {},
     "output_type": "execute_result"
    }
   ],
   "source": [
    "Counter(b)"
   ]
  },
  {
   "cell_type": "code",
   "execution_count": 21,
   "metadata": {},
   "outputs": [
    {
     "data": {
      "text/plain": [
       "True"
      ]
     },
     "execution_count": 21,
     "metadata": {},
     "output_type": "execute_result"
    }
   ],
   "source": [
    "Counter(t) == Counter(b)"
   ]
  },
  {
   "cell_type": "code",
   "execution_count": null,
   "metadata": {},
   "outputs": [],
   "source": []
  }
 ],
 "metadata": {
  "kernelspec": {
   "display_name": "Python 3.9.7 ('base')",
   "language": "python",
   "name": "python3"
  },
  "language_info": {
   "codemirror_mode": {
    "name": "ipython",
    "version": 3
   },
   "file_extension": ".py",
   "mimetype": "text/x-python",
   "name": "python",
   "nbconvert_exporter": "python",
   "pygments_lexer": "ipython3",
   "version": "3.9.7"
  },
  "orig_nbformat": 4,
  "vscode": {
   "interpreter": {
    "hash": "7cdf10781bbe6a57a8d081363923bf7d747e13240b0528932bc62bdd64a98c25"
   }
  }
 },
 "nbformat": 4,
 "nbformat_minor": 2
}
