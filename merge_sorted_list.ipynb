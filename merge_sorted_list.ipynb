{
 "cells": [
  {
   "cell_type": "code",
   "execution_count": 4,
   "metadata": {},
   "outputs": [
    {
     "data": {
      "text/plain": [
       "[-1, 0, 1, 2, 4, 4, 5, 7, 8, 9, 9]"
      ]
     },
     "execution_count": 4,
     "metadata": {},
     "output_type": "execute_result"
    }
   ],
   "source": [
    "class Solution:\n",
    "    def mergeTwoLists(self, list1, list2) -> list:\n",
    "        finall_list = []\n",
    "        len1 = len2 = 0\n",
    "        while len1 < len(list1) and len2 < len(list2):\n",
    "            if list1[len1] <= list2[len2]:\n",
    "                finall_list.append(list1[len1])\n",
    "                len1 += 1\n",
    "            else:\n",
    "                finall_list.append(list2[len2])\n",
    "                len2 += 1\n",
    "        if len1 < len(list1):\n",
    "            finall_list.extend(list1[len1:])\n",
    "        else:\n",
    "            finall_list.extend(list2[len2:])\n",
    "        return finall_list\n",
    "    \n",
    "tr = Solution()\n",
    "tr.mergeTwoLists([-1 , 0, 1,4,7,9],[2,4,5,8,9])\n",
    "        "
   ]
  },
  {
   "cell_type": "code",
   "execution_count": null,
   "metadata": {},
   "outputs": [],
   "source": []
  }
 ],
 "metadata": {
  "kernelspec": {
   "display_name": "Python 3.9.7 ('base')",
   "language": "python",
   "name": "python3"
  },
  "language_info": {
   "codemirror_mode": {
    "name": "ipython",
    "version": 3
   },
   "file_extension": ".py",
   "mimetype": "text/x-python",
   "name": "python",
   "nbconvert_exporter": "python",
   "pygments_lexer": "ipython3",
   "version": "3.9.7"
  },
  "orig_nbformat": 4,
  "vscode": {
   "interpreter": {
    "hash": "7cdf10781bbe6a57a8d081363923bf7d747e13240b0528932bc62bdd64a98c25"
   }
  }
 },
 "nbformat": 4,
 "nbformat_minor": 2
}
