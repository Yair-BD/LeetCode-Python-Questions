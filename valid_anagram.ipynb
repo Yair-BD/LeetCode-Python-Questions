{
 "cells": [
  {
   "cell_type": "code",
   "execution_count": 7,
   "metadata": {},
   "outputs": [
    {
     "data": {
      "text/plain": [
       "True"
      ]
     },
     "execution_count": 7,
     "metadata": {},
     "output_type": "execute_result"
    }
   ],
   "source": [
    "class Solution:\n",
    "    def isAnagram(self, s: str, t: str) -> bool:\n",
    "        if len(s) != len(t): return False\n",
    "        \n",
    "        dict_t = {}\n",
    "        dict_s = {}\n",
    "        for i in range(len(s )):\n",
    "            dict_s[s[i]] = 1 + dict_s.get(s[i], 0)\n",
    "            dict_t[t[i]] = 1 + dict_t.get(t[i], 0)\n",
    "            \n",
    "        return dict_t == dict_s\n",
    "        \n",
    "v = Solution()\n",
    "v.isAnagram(\"fglreeletl\", \"egretfllle\")\n",
    "            \n"
   ]
  },
  {
   "cell_type": "code",
   "execution_count": 2,
   "metadata": {},
   "outputs": [
    {
     "data": {
      "text/plain": [
       "True"
      ]
     },
     "execution_count": 2,
     "metadata": {},
     "output_type": "execute_result"
    }
   ],
   "source": [
    "{\"f\":4, \"b\":4} == {\"b\" : 4, \"f\" : 4}"
   ]
  },
  {
   "cell_type": "code",
   "execution_count": null,
   "metadata": {},
   "outputs": [],
   "source": []
  }
 ],
 "metadata": {
  "kernelspec": {
   "display_name": "Python 3.9.7 ('base')",
   "language": "python",
   "name": "python3"
  },
  "language_info": {
   "codemirror_mode": {
    "name": "ipython",
    "version": 3
   },
   "file_extension": ".py",
   "mimetype": "text/x-python",
   "name": "python",
   "nbconvert_exporter": "python",
   "pygments_lexer": "ipython3",
   "version": "3.9.7"
  },
  "orig_nbformat": 4,
  "vscode": {
   "interpreter": {
    "hash": "7cdf10781bbe6a57a8d081363923bf7d747e13240b0528932bc62bdd64a98c25"
   }
  }
 },
 "nbformat": 4,
 "nbformat_minor": 2
}
