{
 "cells": [
  {
   "cell_type": "code",
   "execution_count": 35,
   "metadata": {},
   "outputs": [
    {
     "data": {
      "text/plain": [
       "[1]"
      ]
     },
     "execution_count": 35,
     "metadata": {},
     "output_type": "execute_result"
    }
   ],
   "source": [
    "\n",
    "def winner (n: int, k: int):\n",
    "    list_cur = [i for i in range(1, n+1)]\n",
    "    cur_del = 0\n",
    "    size = n\n",
    "    while len(list_cur) > 1:\n",
    "    # delete the cuurent\n",
    "    # find the next\n",
    "        # by noudle the index wuth the current len of the list\n",
    "        cur_del = (cur_del + k - 1) % size\n",
    "        del list_cur[cur_del]\n",
    "        size = len(list_cur)\n",
    "        \n",
    "    return list_cur\n",
    "\n",
    "winner(6, 5)\n",
    "        \n",
    "    "
   ]
  },
  {
   "cell_type": "code",
   "execution_count": 26,
   "metadata": {},
   "outputs": [
    {
     "data": {
      "text/plain": [
       "1"
      ]
     },
     "execution_count": 26,
     "metadata": {},
     "output_type": "execute_result"
    }
   ],
   "source": [
    "class Solution:\n",
    "    def findTheWinner(self, n: int, k: int) -> int:\n",
    "        # Time complexity O(N), space complexity is O(N)\n",
    "        # As N grows so does the memory address pointing to game variable\n",
    "        game = list(range(1, n + 1))\n",
    "        size = n\n",
    "        position = 0 \n",
    "\n",
    "        while size > 1:\n",
    "            position = (position + k - 1) % size\n",
    "            del game[position] \n",
    "            size -= 1\n",
    "\n",
    "        return game[0]\n",
    "    \n",
    "find = Solution()\n",
    "find.findTheWinner(6, 5)"
   ]
  },
  {
   "cell_type": "code",
   "execution_count": null,
   "metadata": {},
   "outputs": [],
   "source": []
  }
 ],
 "metadata": {
  "kernelspec": {
   "display_name": "Python 3.9.7 ('base')",
   "language": "python",
   "name": "python3"
  },
  "language_info": {
   "codemirror_mode": {
    "name": "ipython",
    "version": 3
   },
   "file_extension": ".py",
   "mimetype": "text/x-python",
   "name": "python",
   "nbconvert_exporter": "python",
   "pygments_lexer": "ipython3",
   "version": "3.9.7"
  },
  "orig_nbformat": 4,
  "vscode": {
   "interpreter": {
    "hash": "7cdf10781bbe6a57a8d081363923bf7d747e13240b0528932bc62bdd64a98c25"
   }
  }
 },
 "nbformat": 4,
 "nbformat_minor": 2
}
