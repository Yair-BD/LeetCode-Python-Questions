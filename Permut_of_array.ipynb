{
 "cells": [
  {
   "cell_type": "code",
   "execution_count": 7,
   "metadata": {},
   "outputs": [
    {
     "data": {
      "text/plain": [
       "[[1, 2, 3], [2, 3, 1], [3, 1, 2]]"
      ]
     },
     "execution_count": 7,
     "metadata": {},
     "output_type": "execute_result"
    }
   ],
   "source": [
    "def permute(nums: list[int]) -> list[list[int]]:  \n",
    "    list_of_list = []\n",
    "    for index in range(len(nums)):\n",
    "        tmp = []\n",
    "        for i in range(index ,len(nums)):\n",
    "            tmp.append(nums[i])\n",
    "        for i in range(index % len(nums)):\n",
    "            tmp.append(nums[i])\n",
    "        \n",
    "        list_of_list.append(tmp)\n",
    "    return list_of_list\n",
    "\n",
    "permute([1,2,3])"
   ]
  },
  {
   "cell_type": "code",
   "execution_count": 2,
   "metadata": {},
   "outputs": [],
   "source": [
    "for i in range(0):\n",
    "    print(4)"
   ]
  },
  {
   "cell_type": "code",
   "execution_count": null,
   "metadata": {},
   "outputs": [],
   "source": [
    "def permute(self, nums: list[int]) -> list[list[int]]:  \n",
    "    result = list\n",
    "    \n",
    "    # End of recurtion\n",
    "    if len(nums) == 1:\n",
    "        return [nums[:]]\n",
    "    \n",
    "    for i in range(nums):\n",
    "        n = nums.pop(0)\n",
    "        purms = self.permute(nums)\n",
    "        \n",
    "        for pur in purms:\n",
    "            pur.append(n)\n",
    "        result.extend(purms)\n",
    "        nums.append(n)\n",
    "        \n",
    "    return result"
   ]
  }
 ],
 "metadata": {
  "kernelspec": {
   "display_name": "Python 3.9.7 ('base')",
   "language": "python",
   "name": "python3"
  },
  "language_info": {
   "codemirror_mode": {
    "name": "ipython",
    "version": 3
   },
   "file_extension": ".py",
   "mimetype": "text/x-python",
   "name": "python",
   "nbconvert_exporter": "python",
   "pygments_lexer": "ipython3",
   "version": "3.9.7"
  },
  "orig_nbformat": 4,
  "vscode": {
   "interpreter": {
    "hash": "7cdf10781bbe6a57a8d081363923bf7d747e13240b0528932bc62bdd64a98c25"
   }
  }
 },
 "nbformat": 4,
 "nbformat_minor": 2
}
