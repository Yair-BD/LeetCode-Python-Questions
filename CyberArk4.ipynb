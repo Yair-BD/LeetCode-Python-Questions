{
 "cells": [
  {
   "cell_type": "code",
   "execution_count": 17,
   "id": "f142dbf3",
   "metadata": {},
   "outputs": [
    {
     "data": {
      "text/plain": [
       "['yair', 'ben', 'david']"
      ]
     },
     "execution_count": 17,
     "metadata": {},
     "output_type": "execute_result"
    }
   ],
   "source": [
    "t= \"yair ben david\"\n",
    "t_split = t.split()\n",
    "t_split\n"
   ]
  },
  {
   "cell_type": "code",
   "execution_count": 18,
   "id": "3bc3ab7e",
   "metadata": {},
   "outputs": [
    {
     "name": "stdout",
     "output_type": "stream",
     "text": [
      "['yair', 'be']\n"
     ]
    },
    {
     "data": {
      "text/plain": [
       "'be'"
      ]
     },
     "execution_count": 18,
     "metadata": {},
     "output_type": "execute_result"
    }
   ],
   "source": [
    "t= \"yair ben david\"\n",
    "t_split = t.split()\n",
    "t_after_cat = t[:7]\n",
    "t_after_cat_split = t_after_cat.split()\n",
    "print(t_after_cat_split)\n",
    "lest = t_after_cat_split[-1]\n",
    "lest\n"
   ]
  },
  {
   "cell_type": "code",
   "execution_count": 20,
   "id": "13511c83",
   "metadata": {},
   "outputs": [
    {
     "name": "stdout",
     "output_type": "stream",
     "text": [
      "1\n"
     ]
    },
    {
     "data": {
      "text/plain": [
       "1"
      ]
     },
     "execution_count": 20,
     "metadata": {},
     "output_type": "execute_result"
    }
   ],
   "source": [
    "i = t_after_cat_split.index(lest)\n",
    "print(len(t_after_cat_split)-1)\n",
    "i"
   ]
  },
  {
   "cell_type": "code",
   "execution_count": 14,
   "id": "3e40b102",
   "metadata": {},
   "outputs": [],
   "source": [
    "if t_split[i] == t_after_cat_split[i]:\n",
    "    print(t_after_cat_split)\n",
    "else:\n",
    "    t_after_cat_split.pop(i)"
   ]
  },
  {
   "cell_type": "code",
   "execution_count": 15,
   "id": "68226bb1",
   "metadata": {},
   "outputs": [
    {
     "data": {
      "text/plain": [
       "['yair']"
      ]
     },
     "execution_count": 15,
     "metadata": {},
     "output_type": "execute_result"
    }
   ],
   "source": [
    "t_after_cat_split"
   ]
  },
  {
   "cell_type": "code",
   "execution_count": 32,
   "id": "bd063683",
   "metadata": {},
   "outputs": [
    {
     "data": {
      "text/plain": [
       "['ben', 'yair', 'ben', 'david']"
      ]
     },
     "execution_count": 32,
     "metadata": {},
     "output_type": "execute_result"
    }
   ],
   "source": [
    "t= \"ben yair ben david\"\n",
    "t_split = t.split()\n",
    "t_split\n"
   ]
  },
  {
   "cell_type": "code",
   "execution_count": 45,
   "id": "32c598c4",
   "metadata": {},
   "outputs": [
    {
     "name": "stdout",
     "output_type": "stream",
     "text": [
      "6\n",
      "3\n",
      "1\n"
     ]
    }
   ],
   "source": [
    "a = [1, 3, 6]\n",
    "for i in range(3 -1 , -1, -1):\n",
    "    \n",
    "    print(a[i])"
   ]
  },
  {
   "cell_type": "code",
   "execution_count": 33,
   "id": "a49ede10",
   "metadata": {},
   "outputs": [
    {
     "data": {
      "text/plain": [
       "['ben', 'yair', 'ben']"
      ]
     },
     "execution_count": 33,
     "metadata": {},
     "output_type": "execute_result"
    }
   ],
   "source": [
    "i = 2\n",
    "t_split.pop()\n",
    "t_split"
   ]
  },
  {
   "cell_type": "code",
   "execution_count": 44,
   "id": "23c7a2ce",
   "metadata": {},
   "outputs": [
    {
     "data": {
      "text/plain": [
       "674"
      ]
     },
     "execution_count": 44,
     "metadata": {},
     "output_type": "execute_result"
    }
   ],
   "source": [
    "array = [1,2,674, \"\",5,14,7,8, \"\",9,10]\n",
    "m = 0\n",
    "for i in array:\n",
    "    if i != \"\":\n",
    "        if i > m:\n",
    "            m = i\n",
    "        \n",
    "m"
   ]
  },
  {
   "cell_type": "code",
   "execution_count": null,
   "id": "e92a75e1",
   "metadata": {},
   "outputs": [],
   "source": []
  }
 ],
 "metadata": {
  "kernelspec": {
   "display_name": "Python 3.10.2 64-bit",
   "language": "python",
   "name": "python3"
  },
  "language_info": {
   "codemirror_mode": {
    "name": "ipython",
    "version": 3
   },
   "file_extension": ".py",
   "mimetype": "text/x-python",
   "name": "python",
   "nbconvert_exporter": "python",
   "pygments_lexer": "ipython3",
   "version": "3.10.2"
  },
  "vscode": {
   "interpreter": {
    "hash": "9e6ce3d94654b4a55cc98827e4d1ddef76f1b405ef7b4019ce2e76f3b370b857"
   }
  }
 },
 "nbformat": 4,
 "nbformat_minor": 5
}
