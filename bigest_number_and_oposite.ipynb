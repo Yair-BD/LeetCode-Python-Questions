{
 "cells": [
  {
   "cell_type": "code",
   "execution_count": 1,
   "metadata": {},
   "outputs": [
    {
     "data": {
      "text/plain": [
       "0"
      ]
     },
     "execution_count": 1,
     "metadata": {},
     "output_type": "execute_result"
    }
   ],
   "source": [
    "\n",
    "def solution(A):\n",
    "    old_numbers = set()\n",
    "    \n",
    "    bigest_number = 0\n",
    "    \n",
    "    for i in A: # O(n)\n",
    "        old_numbers.add(i)\n",
    "        \n",
    "        if (-1 * i) in old_numbers:# O(1) set in python is like hashmap and search in hashmap is O(1)\n",
    "            bigest_number = max(bigest_number, abs(i))\n",
    "        \n",
    "    return bigest_number\n",
    "\n",
    "solution([1, 2, 4])"
   ]
  },
  {
   "cell_type": "code",
   "execution_count": 50,
   "metadata": {},
   "outputs": [
    {
     "data": {
      "text/plain": [
       "6"
      ]
     },
     "execution_count": 50,
     "metadata": {},
     "output_type": "execute_result"
    }
   ],
   "source": [
    "def solution(A):\n",
    "    # write your code in Python 3.6\n",
    "    # return  the longest concatention of srting in the array\n",
    "    longest_string = 0\n",
    "    for i in range(len(A)):\n",
    "        for j in range(i + 1, len(A)): # i + 1 - to avoid concat the same string \n",
    "            tmp_srt = str(A[i]) + str(A[j])\n",
    "            if len(tmp_srt) == len(set(tmp_srt)):\n",
    "                longest_string = max(longest_string, len(tmp_srt))\n",
    "            \n",
    "            \n",
    "    return longest_string\n",
    "            \n",
    "solution(['eva', 'jqw', 'tyn', 'jan'])"
   ]
  },
  {
   "cell_type": "code",
   "execution_count": 58,
   "metadata": {},
   "outputs": [
    {
     "name": "stdout",
     "output_type": "stream",
     "text": [
      "eva\n",
      "yas\n",
      "evajqw\n",
      "yas\n",
      "evajqwtyn\n",
      "yas\n",
      "evajqwtynjan\n",
      "evaeva\n",
      "jqwjqw\n",
      "jqwtyn\n",
      "yas\n",
      "jqwtynjan\n",
      "jqweva\n",
      "yas\n",
      "jqwevajqw\n",
      "tyntyn\n",
      "tynjan\n",
      "tyneva\n",
      "yas\n",
      "tynevajqw\n",
      "yas\n",
      "tynevajqwtyn\n",
      "janjan\n"
     ]
    },
    {
     "data": {
      "text/plain": [
       "9"
      ]
     },
     "execution_count": 58,
     "metadata": {},
     "output_type": "execute_result"
    }
   ],
   "source": [
    "def ssolution(A):\n",
    "    # write your code in Python 3.6\n",
    "    # return  the longest concatention of srting in the array\n",
    "    longest_string = 0\n",
    "    tmp_srt = ''\n",
    "    for i in range(len(A)):\n",
    "        for j in range(len(A)): # i + 1 - to avoid concat the same string \n",
    "            tmp_srt += A[j]\n",
    "            print(tmp_srt)\n",
    "            \n",
    "            if len(tmp_srt) == len(set(tmp_srt)):\n",
    "                print(\"yas\")\n",
    "                longest_string = max(longest_string, len(tmp_srt))\n",
    "            else:\n",
    "                tmp_srt = A[i]\n",
    "            \n",
    "    return longest_string\n",
    "            \n",
    "ssolution(['eva', 'jqw', 'tyn', 'jan'])"
   ]
  },
  {
   "cell_type": "code",
   "execution_count": 48,
   "metadata": {},
   "outputs": [
    {
     "name": "stdout",
     "output_type": "stream",
     "text": [
      "10950 10050\n"
     ]
    },
    {
     "data": {
      "text/plain": [
       "900"
      ]
     },
     "execution_count": 48,
     "metadata": {},
     "output_type": "execute_result"
    }
   ],
   "source": [
    "def pre_time(h, m, s):\n",
    "    m = m + s // 60 + h * 60\n",
    "    s = s % 60\n",
    "    return [m, s]\n",
    "\n",
    "def cost_more_then_5_minute(m, s):\n",
    "    if s > 0:\n",
    "        m += 1\n",
    "    return m * 150\n",
    "\n",
    "def cost_less_then_5_minute(m, s):\n",
    "    return m * 180 + s * 3\n",
    "    \n",
    "\n",
    "def solution(S):\n",
    "    # write your code in Python 3.6\n",
    "    lines_bill = S.split(\"\\n\")\n",
    "    line_time_phone = [line.split(\",\") for line in lines_bill]\n",
    "    \n",
    "    phone_time_dict = {}\n",
    "    for time, number in line_time_phone:\n",
    "        \n",
    "        number = int(\"\".join(number.split(\"-\")))\n",
    "        time = [int(number) for number in time.split(\":\")]\n",
    "        \n",
    "        if number in phone_time_dict:\n",
    "            phone_time_dict[number] = [x + y for x, y in zip(phone_time_dict[number], time)]\n",
    "        else:\n",
    "            phone_time_dict[number] = time\n",
    "    \n",
    "    largest_cost = 0\n",
    "    phone_cost_dict = {}\n",
    "    for number, time in phone_time_dict.items():  \n",
    "        time = pre_time(*time)\n",
    "        minute, sec = time[0], time[1]\n",
    "        \n",
    "        if minute >= 5:\n",
    "            tmp_cost = cost_more_then_5_minute(*time)\n",
    "            largest_cost = max(largest_cost, tmp_cost)\n",
    "            phone_cost_dict[number] = tmp_cost\n",
    "        else:\n",
    "            tmp_cost = cost_less_then_5_minute(*time)\n",
    "            largest_cost = max(largest_cost, tmp_cost)\n",
    "            phone_cost_dict[number] = tmp_cost\n",
    "    \n",
    "    total_cost = sum(phone_cost_dict.values()) - largest_cost\n",
    "    \n",
    "    return total_cost\n",
    "\n",
    "        \n",
    "        \n",
    "        \n",
    "    \n",
    "    \n",
    "solution(\"01:01:07,400-234-090\\n00:05:01,701-080-080\\n00:05:00,400-234-090\")"
   ]
  },
  {
   "cell_type": "code",
   "execution_count": 38,
   "metadata": {},
   "outputs": [
    {
     "name": "stdout",
     "output_type": "stream",
     "text": [
      "[7, 70]\n"
     ]
    }
   ],
   "source": [
    "t = [  2 ,14]\n",
    "b = [ 5, 56]\n",
    "c = [x + y for x, y in zip(t, b)]\n",
    "print(c)\n",
    "\n",
    "\n",
    "def time(h, m, s):\n",
    "    m = m + s // 60 + h * 60\n",
    "    s = s % 60\n",
    "    return m, s\n",
    "\n",
    "def cost_more_then_5_minute(m, s):\n",
    "    return m * 150\n",
    "\n",
    "def cost_less_then_5_minute(m, s):\n",
    "    return m * 180 + s * 3\n",
    "    \n"
   ]
  },
  {
   "cell_type": "code",
   "execution_count": 35,
   "metadata": {},
   "outputs": [
    {
     "data": {
      "text/plain": [
       "1"
      ]
     },
     "execution_count": 35,
     "metadata": {},
     "output_type": "execute_result"
    }
   ],
   "source": [
    "m = 62 % 3600 // 60\n",
    "62 // 60\n",
    "\n"
   ]
  },
  {
   "cell_type": "code",
   "execution_count": 30,
   "metadata": {},
   "outputs": [
    {
     "data": {
      "text/plain": [
       "1"
      ]
     },
     "execution_count": 30,
     "metadata": {},
     "output_type": "execute_result"
    }
   ],
   "source": [
    "m\n"
   ]
  },
  {
   "cell_type": "code",
   "execution_count": null,
   "metadata": {},
   "outputs": [],
   "source": []
  }
 ],
 "metadata": {
  "kernelspec": {
   "display_name": "Python 3.9.7 ('base')",
   "language": "python",
   "name": "python3"
  },
  "language_info": {
   "codemirror_mode": {
    "name": "ipython",
    "version": 3
   },
   "file_extension": ".py",
   "mimetype": "text/x-python",
   "name": "python",
   "nbconvert_exporter": "python",
   "pygments_lexer": "ipython3",
   "version": "3.9.7"
  },
  "orig_nbformat": 4,
  "vscode": {
   "interpreter": {
    "hash": "7cdf10781bbe6a57a8d081363923bf7d747e13240b0528932bc62bdd64a98c25"
   }
  }
 },
 "nbformat": 4,
 "nbformat_minor": 2
}
