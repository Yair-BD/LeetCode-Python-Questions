{
 "cells": [
  {
   "cell_type": "code",
   "execution_count": 4,
   "metadata": {},
   "outputs": [],
   "source": [
    "def slution(nums :list):\n",
    "    nums.sort()\n",
    "    array_len = len(nums)\n",
    "    result = []\n",
    "    for i in range(array_len - 2): #Becuase the lest number is always the right pointer\n",
    "        if i > 0 and nums[i] == nums[i-1]: #Skip the same number\n",
    "            continue\n",
    "        left, right = i+1, array_len - 1\n",
    "        while left < right:\n",
    "            tmp_sum = nums[i] + nums[left] + nums[right]\n",
    "            if tmp_sum < 0:\n",
    "                left += 1\n",
    "            elif tmp_sum > 0:\n",
    "                right -= 1\n",
    "            else:\n",
    "                result.append([nums[i], nums[left], nums[right]])\n",
    "                while left < right and nums[left] == nums[left + 1]: #Skip the same number\n",
    "                    left += 1 #We get the last same number\n",
    "                while left < right and nums[right] == nums[right - 1]: #Skip the same number\n",
    "                    right -= 1 #We get the last same number\n",
    "                \n",
    "                left += 1 #Pass the last same number\n",
    "                right -= 1\n",
    "                \n",
    "    return result"
   ]
  },
  {
   "cell_type": "code",
   "execution_count": 5,
   "metadata": {},
   "outputs": [
    {
     "name": "stdout",
     "output_type": "stream",
     "text": [
      "[[-1, -1, 2], [-1, 0, 1]]\n"
     ]
    }
   ],
   "source": [
    "print(slution([-1, 0, 1, 2, -1, -4]))"
   ]
  },
  {
   "cell_type": "code",
   "execution_count": null,
   "metadata": {},
   "outputs": [],
   "source": []
  }
 ],
 "metadata": {
  "kernelspec": {
   "display_name": "Python 3.9.7 ('base')",
   "language": "python",
   "name": "python3"
  },
  "language_info": {
   "codemirror_mode": {
    "name": "ipython",
    "version": 3
   },
   "file_extension": ".py",
   "mimetype": "text/x-python",
   "name": "python",
   "nbconvert_exporter": "python",
   "pygments_lexer": "ipython3",
   "version": "3.9.7"
  },
  "orig_nbformat": 4,
  "vscode": {
   "interpreter": {
    "hash": "7cdf10781bbe6a57a8d081363923bf7d747e13240b0528932bc62bdd64a98c25"
   }
  }
 },
 "nbformat": 4,
 "nbformat_minor": 2
}
